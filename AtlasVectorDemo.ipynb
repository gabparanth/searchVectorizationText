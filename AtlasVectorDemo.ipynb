{
 "cells": [
  {
   "attachments": {},
   "cell_type": "markdown",
   "metadata": {},
   "source": [
    "Steps: \n",
    "- Download bestbuy sample dataset from github: https://github.com/BestBuyAPIs/open-data-set/blob/master/products.json"
   ]
  },
  {
   "cell_type": "code",
   "execution_count": 3,
   "metadata": {},
   "outputs": [
    {
     "name": "stdout",
     "output_type": "stream",
     "text": [
      "--2023-03-21 10:38:43--  https://raw.githubusercontent.com/BestBuyAPIs/open-data-set/master/products.json\n",
      "Resolving raw.githubusercontent.com (raw.githubusercontent.com)... 185.199.110.133, 185.199.111.133, 185.199.108.133, ...\n",
      "Connecting to raw.githubusercontent.com (raw.githubusercontent.com)|185.199.110.133|:443... connected.\n",
      "HTTP request sent, awaiting response... 200 OK\n",
      "Length: 39685207 (38M) [text/plain]\n",
      "Saving to: ‘./assets/products.json’\n",
      "\n",
      "products.json       100%[===================>]  37,85M  16,0MB/s    in 2,4s    \n",
      "\n",
      "2023-03-21 10:38:45 (16,0 MB/s) - ‘./assets/products.json’ saved [39685207/39685207]\n",
      "\n"
     ]
    }
   ],
   "source": [
    "import urllib.request\n",
    "import os\n",
    "import json\n",
    "\n",
    "os.remove(\"./assets/products.json\")\n",
    "! wget -P ./assets/ 'https://raw.githubusercontent.com/BestBuyAPIs/open-data-set/master/products.json'\n"
   ]
  },
  {
   "attachments": {},
   "cell_type": "markdown",
   "metadata": {},
   "source": [
    "instanciate your MongoDB Atlas Client"
   ]
  },
  {
   "cell_type": "code",
   "execution_count": 11,
   "metadata": {},
   "outputs": [],
   "source": [
    "\n",
    "import pymongo\n",
    "connection = pymongo.MongoClient(\"mongodb+srv://<username>:<password>@realmcluster.jklrj.mongodb.net/?retryWrites=true&w=majority\")\n",
    "collection = connection[\"vectorSearchDemo\"][\"productCatalog\"]"
   ]
  },
  {
   "attachments": {},
   "cell_type": "markdown",
   "metadata": {},
   "source": [
    "We will load roBerta using SentenceTransformer"
   ]
  },
  {
   "cell_type": "code",
   "execution_count": 22,
   "metadata": {},
   "outputs": [],
   "source": [
    "from sentence_transformers import SentenceTransformer, util\n",
    "model = SentenceTransformer('sentence-transformers/all-distilroberta-v1')"
   ]
  },
  {
   "attachments": {},
   "cell_type": "markdown",
   "metadata": {},
   "source": [
    "Now we will get the first 5000 items from the list, encode the name field and load it in your MongoDB Atlas deployment. This should take ~ 2.5 min for 5000 documents. "
   ]
  },
  {
   "cell_type": "code",
   "execution_count": 23,
   "metadata": {},
   "outputs": [
    {
     "data": {
      "text/plain": [
       "<pymongo.results.InsertManyResult at 0x2c3ff7820>"
      ]
     },
     "execution_count": 23,
     "metadata": {},
     "output_type": "execute_result"
    }
   ],
   "source": [
    "\n",
    "import itertools\n",
    "\n",
    "collection.delete_many({})\n",
    "\n",
    "with open('./assets/products.json', 'r') as file:\n",
    "    json_object = json.load(file)\n",
    "\n",
    "documents_to_process = itertools.islice(json_object, 5000)\n",
    "documents_to_insert = []\n",
    "for doc in documents_to_process:\n",
    "    encoded = model.encode(doc[\"name\"]).tolist()\n",
    "    doc[\"encoded\"] = encoded\n",
    "    documents_to_insert.append(doc)\n",
    "\n",
    "collection.insert_many(documents_to_insert)"
   ]
  },
  {
   "attachments": {},
   "cell_type": "markdown",
   "metadata": {},
   "source": [
    "It is interesting to check the size of the embedded array. We will have to report it in the Atlas Search Vector Definition. using Roberta, this should be 768"
   ]
  },
  {
   "cell_type": "code",
   "execution_count": 28,
   "metadata": {},
   "outputs": [
    {
     "name": "stdout",
     "output_type": "stream",
     "text": [
      "{'size': 768}\n"
     ]
    }
   ],
   "source": [
    "embeddedSize = collection.aggregate([\n",
    "    {\n",
    "        '$project': {\n",
    "            'size': {\n",
    "                '$size': '$encoded'\n",
    "            }, \n",
    "            '_id': 0\n",
    "        }\n",
    "    }, {\n",
    "        '$limit': 1\n",
    "    }\n",
    "])\n",
    "\n",
    "for size in embeddedSize:\n",
    "    print(size)"
   ]
  },
  {
   "attachments": {},
   "cell_type": "markdown",
   "metadata": {},
   "source": [
    "Now that documents are inserted in MongoDB Atlas, we need to create an Atlas Search vector index in the vectorSearchDemo.productCatalog collection\n",
    "note than the dimensions value is equal to the size of the array encoded. this will depends on the model you use. "
   ]
  },
  {
   "attachments": {},
   "cell_type": "markdown",
   "metadata": {},
   "source": [
    "{\n",
    "  \"mappings\": {\n",
    "    \"fields\": {\n",
    "      \"encoded\": [\n",
    "        {\n",
    "          \"dimensions\": 768,\n",
    "          \"similarity\": \"euclidean\",\n",
    "          \"type\": \"knnVector\"\n",
    "        }\n",
    "      ]\n",
    "    }\n",
    "  }\n",
    "}"
   ]
  },
  {
   "attachments": {},
   "cell_type": "markdown",
   "metadata": {},
   "source": [
    "We're going now to query data..\n",
    "First we need to encode a sentence\n"
   ]
  },
  {
   "cell_type": "code",
   "execution_count": 31,
   "metadata": {},
   "outputs": [],
   "source": [
    "vector_text=\"I need a device to listen to music\"\n",
    "vector_query = model.encode(vector_text).tolist()"
   ]
  },
  {
   "attachments": {},
   "cell_type": "markdown",
   "metadata": {},
   "source": [
    "Then we can query data the knnBeta operator"
   ]
  },
  {
   "cell_type": "code",
   "execution_count": 32,
   "metadata": {},
   "outputs": [
    {
     "name": "stdout",
     "output_type": "stream",
     "text": [
      "[{'name': 'SONOS - PLAY:1 Wireless Speaker for Streaming Music - White', 'score': 0.4775533676147461}, {'name': 'SONOS - PLAY:1 Wireless Speaker for Streaming Music - Black', 'score': 0.46975255012512207}, {'name': 'Onkyo - On-Ear Headphones', 'score': 0.46310728788375854}, {'name': 'Urbanears - Plattan On-Ear Headphones - Mulberry', 'score': 0.45934388041496277}, {'name': 'iLive - Wireless Over-the-Ear Headphones - Red', 'score': 0.4592013657093048}, {'name': 'Onkyo - On-Ear Headphones - Violet', 'score': 0.45326054096221924}, {'name': 'Urbanears - Plattan On-Ear Headphones - Indigo', 'score': 0.4529149830341339}, {'name': 'Urbanears - Plattan On-Ear Headphones - Moss', 'score': 0.45284903049468994}, {'name': 'iLive - On-Ear Wireless Headphones - Red', 'score': 0.45234042406082153}, {'name': 'iLive - Wireless Earbud Headphones - Red', 'score': 0.4523336887359619}]\n"
     ]
    }
   ],
   "source": [
    "pipeline = [\n",
    "        {\n",
    "            \"$search\": {\n",
    "                \"index\": \"default\",\n",
    "                \"knnBeta\": {\n",
    "                    \"vector\": vector_query,\n",
    "                    \"path\": \"encoded\",\n",
    "                    \"k\": 10\n",
    "                }\n",
    "            }\n",
    "        },\n",
    "        {\n",
    "            \"$project\": {\n",
    "                \"_id\": 0,\n",
    "                'score': {\n",
    "                    '$meta': 'searchScore'\n",
    "                },\n",
    "                \"name\":1\n",
    "            }\n",
    "        }\n",
    "    ]\n",
    "\n",
    "docs = list(collection.aggregate(pipeline))\n",
    "\n",
    "print(docs)"
   ]
  }
 ],
 "metadata": {
  "kernelspec": {
   "display_name": "Python 3",
   "language": "python",
   "name": "python3"
  },
  "language_info": {
   "codemirror_mode": {
    "name": "ipython",
    "version": 3
   },
   "file_extension": ".py",
   "mimetype": "text/x-python",
   "name": "python",
   "nbconvert_exporter": "python",
   "pygments_lexer": "ipython3",
   "version": "3.10.5"
  },
  "orig_nbformat": 4,
  "vscode": {
   "interpreter": {
    "hash": "aee8b7b246df8f9039afb4144a1f6fd8d2ca17a180786b69acc140d282b71a49"
   }
  }
 },
 "nbformat": 4,
 "nbformat_minor": 2
}
